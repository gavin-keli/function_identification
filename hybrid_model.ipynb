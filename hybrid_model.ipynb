{
 "cells": [
  {
   "attachments": {},
   "cell_type": "markdown",
   "metadata": {},
   "source": [
    "## Hybrid Model"
   ]
  },
  {
   "cell_type": "code",
   "execution_count": 8,
   "metadata": {},
   "outputs": [],
   "source": [
    "import os\n",
    "import glob\n",
    "import pickle \n",
    "import numpy as np\n",
    "import pandas as pd\n",
    "from sklearn.neighbors import KNeighborsClassifier\n",
    "from sklearn.metrics import classification_report, confusion_matrix"
   ]
  },
  {
   "cell_type": "code",
   "execution_count": 2,
   "metadata": {},
   "outputs": [],
   "source": [
    "# combine ghidra and CNN resutls\n",
    "cnn_folder = \"/home/gavin/data/function_identification/elf/cnn\"\n",
    "ghidra_folder = \"/home/gavin/data/function_identification/elf/ghidra\"\n",
    "\n",
    "cnn_file_list = glob.glob(os.path.join(cnn_folder, \"*\"))\n",
    "ghidra_file_list = glob.glob(os.path.join(ghidra_folder, \"*\"))\n",
    "\n",
    "# KNN x['cnn','ghidra']\n",
    "# y ['ground']\n",
    "\n",
    "x = []\n",
    "y = []"
   ]
  },
  {
   "cell_type": "code",
   "execution_count": 3,
   "metadata": {},
   "outputs": [
    {
     "name": "stdout",
     "output_type": "stream",
     "text": [
      "gcc_coreutils_64_O3_readlink\n",
      "468 gcc_coreutils_64_O3_readlink_cnn_prediction\n",
      "34108 \n",
      "\n",
      "gcc_coreutils_64_O1_head\n",
      "268 gcc_coreutils_64_O1_head_cnn_prediction\n",
      "21692 \n",
      "\n",
      "gcc_coreutils_64_O3_uptime\n",
      "334 gcc_coreutils_64_O3_uptime_cnn_prediction\n",
      "33308 \n",
      "\n",
      "gcc_coreutils_64_O1_stdbuf\n",
      "494 gcc_coreutils_64_O1_stdbuf_cnn_prediction\n",
      "46284 \n",
      "\n",
      "gcc_binutils_64_O3_elfedit\n",
      "435 gcc_binutils_64_O3_elfedit_cnn_prediction\n",
      "13660 \n",
      "\n",
      "gcc_coreutils_64_O0_stat\n",
      "176 gcc_coreutils_64_O0_stat_cnn_prediction\n",
      "69752 \n",
      "\n",
      "gcc_findutils_64_O3_find\n",
      "497 gcc_findutils_64_O3_find_cnn_prediction\n",
      "193568 \n",
      "\n",
      "gcc_coreutils_64_O2_ginstall\n",
      "103 gcc_coreutils_64_O2_ginstall_cnn_prediction\n",
      "80444 \n",
      "\n",
      "gcc_coreutils_64_O2_pr\n",
      "184 gcc_coreutils_64_O2_printf_cnn_prediction\n",
      "30044 \n",
      "\n",
      "gcc_coreutils_64_O2_pr\n",
      "333 gcc_coreutils_64_O2_pr_cnn_prediction\n",
      "39212 \n",
      "\n",
      "gcc_coreutils_64_O2_pr\n",
      "382 gcc_coreutils_64_O2_printenv_cnn_prediction\n",
      "15820 \n",
      "\n",
      "gcc_coreutils_64_O0_tail\n",
      "193 gcc_coreutils_64_O0_tail_cnn_prediction\n",
      "54240 \n",
      "\n",
      "632132\n"
     ]
    }
   ],
   "source": [
    "counter = 0\n",
    "\n",
    "for ghidra_file in ghidra_file_list[0:50]:\n",
    "    ghidra_name = ghidra_file.split('/')[-1].split('.')[0]\n",
    "    index = -1\n",
    "    for cnn_file in cnn_file_list:\n",
    "        index += 1\n",
    "        if ghidra_name in cnn_file:\n",
    "            cnn_name = cnn_file.split('/')[-1].split('.')[0]\n",
    "            #print(ghidra_name)\n",
    "            #print(index, cnn_name)\n",
    "\n",
    "            cnn_file_data = pd.read_csv(cnn_file, header=None, sep=\" \", names=[\"Address\", \"Ground\", \"CNN\"])\n",
    "            ghidra_file_data = pd.read_csv(ghidra_file, header=None, sep=\" \", names=[\"Address\", \"Name\"])\n",
    "\n",
    "            ghidra_list = []\n",
    "            for row in cnn_file_data['Address']:\n",
    "                state = 0\n",
    "                for item in ghidra_file_data['Address']:\n",
    "                    if int(item, 16) == int(row):\n",
    "                        ghidra_list.append(1)\n",
    "                        state = 1\n",
    "                if state == 0:\n",
    "                    ghidra_list.append(0)\n",
    "\n",
    "            print(len(ghidra_list))\n",
    "            counter += len(ghidra_list)\n",
    "\n",
    "            cnn_file_data['Ghidra'] = ghidra_list\n",
    "\n",
    "            for i in cnn_file_data.iloc:\n",
    "                x.append([i['CNN'], i['Ghidra']])\n",
    "                y.append(i['Ground'])\n",
    "\n",
    "print(counter)\n"
   ]
  },
  {
   "cell_type": "code",
   "execution_count": 4,
   "metadata": {},
   "outputs": [
    {
     "name": "stdout",
     "output_type": "stream",
     "text": [
      "632132\n",
      "632132\n"
     ]
    }
   ],
   "source": [
    "print(len(x))\n",
    "print(len(y))"
   ]
  },
  {
   "attachments": {},
   "cell_type": "markdown",
   "metadata": {},
   "source": [
    "### KNN"
   ]
  },
  {
   "cell_type": "code",
   "execution_count": 5,
   "metadata": {},
   "outputs": [
    {
     "data": {
      "text/plain": [
       "KNeighborsClassifier(n_neighbors=3)"
      ]
     },
     "execution_count": 5,
     "metadata": {},
     "output_type": "execute_result"
    }
   ],
   "source": [
    "neigh = KNeighborsClassifier(n_neighbors=3)\n",
    "neigh.fit(x, y)"
   ]
  },
  {
   "cell_type": "code",
   "execution_count": 9,
   "metadata": {},
   "outputs": [],
   "source": [
    "knnPickle = open('knn', 'wb')  \n",
    "# source, destination \n",
    "pickle.dump(neigh, knnPickle)  \n",
    "# close the file\n",
    "knnPickle.close()"
   ]
  },
  {
   "cell_type": "code",
   "execution_count": null,
   "metadata": {},
   "outputs": [],
   "source": []
  },
  {
   "cell_type": "code",
   "execution_count": null,
   "metadata": {},
   "outputs": [],
   "source": [
    "## load test dataset\n",
    "# combine ghidra and CNN resutls\n",
    "cnn_folder2 = \"/home/gavin/data/function_identification/lookback-corpus/cnn\"\n",
    "ghidra_folder2 = \"/home/gavin/data/function_identification/lookback-corpus/ghidra\"\n",
    "\n",
    "cnn_file_list2 = glob.glob(os.path.join(cnn_folder2, \"*\"))\n",
    "ghidra_file_list2 = glob.glob(os.path.join(ghidra_folder2, \"*\"))\n",
    "\n",
    "# KNN x['cnn','ghidra']\n",
    "# y ['ground']\n",
    "\n",
    "x2 = []\n",
    "y2 = []"
   ]
  },
  {
   "cell_type": "code",
   "execution_count": null,
   "metadata": {},
   "outputs": [],
   "source": [
    "counter = 0\n",
    "\n",
    "for ghidra_file in ghidra_file_list2[0:25]:\n",
    "    ghidra_name = ghidra_file.split('/')[-1].split('.')[0]\n",
    "    index = -1\n",
    "    for cnn_file in cnn_file_list2:\n",
    "        index += 1\n",
    "        if ghidra_name in cnn_file:\n",
    "            cnn_name = cnn_file.split('/')[-1].split('.')[0]\n",
    "            print(ghidra_name)\n",
    "            print(index, cnn_name)\n",
    "\n",
    "            cnn_file_data = pd.read_csv(cnn_file, header=None, sep=\" \", names=[\"Address\", \"Ground\", \"CNN\"])\n",
    "            ghidra_file_data = pd.read_csv(ghidra_file, header=None, sep=\" \", names=[\"Address\", \"Name\"])\n",
    "\n",
    "            ghidra_list = []\n",
    "            for row in cnn_file_data['Address']:\n",
    "                state = 0\n",
    "                for item in ghidra_file_data['Address']:\n",
    "                    if int(item, 16) == int(row):\n",
    "                        ghidra_list.append(1)\n",
    "                        state = 1\n",
    "                if state == 0:\n",
    "                    ghidra_list.append(0)\n",
    "\n",
    "            print(len(ghidra_list))\n",
    "            counter += len(ghidra_list)\n",
    "\n",
    "            cnn_file_data['Ghidra'] = ghidra_list\n",
    "\n",
    "            for i in cnn_file_data.iloc:\n",
    "                x2.append([i['CNN'], i['Ghidra']])\n",
    "                y2.append(i['Ground'])\n",
    "\n",
    "print(counter)"
   ]
  },
  {
   "cell_type": "code",
   "execution_count": 7,
   "metadata": {},
   "outputs": [
    {
     "name": "stdout",
     "output_type": "stream",
     "text": [
      "[[630302     16]\n",
      " [    63   1751]]\n",
      "              precision    recall  f1-score   support\n",
      "\n",
      "           0       1.00      1.00      1.00    630318\n",
      "           1       0.99      0.97      0.98      1814\n",
      "\n",
      "    accuracy                           1.00    632132\n",
      "   macro avg       1.00      0.98      0.99    632132\n",
      "weighted avg       1.00      1.00      1.00    632132\n",
      "\n"
     ]
    }
   ],
   "source": [
    "y_pred2 = neigh.predict(x2)\n",
    "print(confusion_matrix(y2,y_pred2))\n",
    "print(classification_report(y2,y_pred2))"
   ]
  },
  {
   "cell_type": "code",
   "execution_count": null,
   "metadata": {},
   "outputs": [],
   "source": []
  },
  {
   "cell_type": "code",
   "execution_count": null,
   "metadata": {},
   "outputs": [],
   "source": []
  },
  {
   "cell_type": "code",
   "execution_count": 10,
   "metadata": {},
   "outputs": [
    {
     "name": "stdout",
     "output_type": "stream",
     "text": [
      "/home/gavin/data/function_identification/elf/cnn/gcc_coreutils_64_O1_test_cnn_prediction.txt\n",
      "/home/gavin/data/function_identification/elf/ghidra/gcc_coreutils_64_O3_readlink.txt\n"
     ]
    }
   ],
   "source": [
    "cnn_file = cnn_file_list[433]\n",
    "ghidra_file = ghidra_file_list[0]\n",
    "\n",
    "print(cnn_file)\n",
    "print(ghidra_file)"
   ]
  },
  {
   "cell_type": "code",
   "execution_count": 11,
   "metadata": {},
   "outputs": [
    {
     "data": {
      "text/html": [
       "<div>\n",
       "<style scoped>\n",
       "    .dataframe tbody tr th:only-of-type {\n",
       "        vertical-align: middle;\n",
       "    }\n",
       "\n",
       "    .dataframe tbody tr th {\n",
       "        vertical-align: top;\n",
       "    }\n",
       "\n",
       "    .dataframe thead th {\n",
       "        text-align: right;\n",
       "    }\n",
       "</style>\n",
       "<table border=\"1\" class=\"dataframe\">\n",
       "  <thead>\n",
       "    <tr style=\"text-align: right;\">\n",
       "      <th></th>\n",
       "      <th>Address</th>\n",
       "      <th>Ground</th>\n",
       "      <th>CNN</th>\n",
       "    </tr>\n",
       "  </thead>\n",
       "  <tbody>\n",
       "    <tr>\n",
       "      <th>0</th>\n",
       "      <td>4200080</td>\n",
       "      <td>0</td>\n",
       "      <td>0</td>\n",
       "    </tr>\n",
       "    <tr>\n",
       "      <th>1</th>\n",
       "      <td>4200081</td>\n",
       "      <td>0</td>\n",
       "      <td>0</td>\n",
       "    </tr>\n",
       "    <tr>\n",
       "      <th>2</th>\n",
       "      <td>4200082</td>\n",
       "      <td>0</td>\n",
       "      <td>0</td>\n",
       "    </tr>\n",
       "    <tr>\n",
       "      <th>3</th>\n",
       "      <td>4200083</td>\n",
       "      <td>0</td>\n",
       "      <td>0</td>\n",
       "    </tr>\n",
       "    <tr>\n",
       "      <th>4</th>\n",
       "      <td>4200084</td>\n",
       "      <td>0</td>\n",
       "      <td>0</td>\n",
       "    </tr>\n",
       "    <tr>\n",
       "      <th>...</th>\n",
       "      <td>...</td>\n",
       "      <td>...</td>\n",
       "      <td>...</td>\n",
       "    </tr>\n",
       "    <tr>\n",
       "      <th>14871</th>\n",
       "      <td>4214951</td>\n",
       "      <td>0</td>\n",
       "      <td>0</td>\n",
       "    </tr>\n",
       "    <tr>\n",
       "      <th>14872</th>\n",
       "      <td>4214952</td>\n",
       "      <td>0</td>\n",
       "      <td>0</td>\n",
       "    </tr>\n",
       "    <tr>\n",
       "      <th>14873</th>\n",
       "      <td>4214953</td>\n",
       "      <td>0</td>\n",
       "      <td>0</td>\n",
       "    </tr>\n",
       "    <tr>\n",
       "      <th>14874</th>\n",
       "      <td>4214954</td>\n",
       "      <td>0</td>\n",
       "      <td>0</td>\n",
       "    </tr>\n",
       "    <tr>\n",
       "      <th>14875</th>\n",
       "      <td>4214955</td>\n",
       "      <td>0</td>\n",
       "      <td>0</td>\n",
       "    </tr>\n",
       "  </tbody>\n",
       "</table>\n",
       "<p>14876 rows × 3 columns</p>\n",
       "</div>"
      ],
      "text/plain": [
       "       Address  Ground  CNN\n",
       "0      4200080       0    0\n",
       "1      4200081       0    0\n",
       "2      4200082       0    0\n",
       "3      4200083       0    0\n",
       "4      4200084       0    0\n",
       "...        ...     ...  ...\n",
       "14871  4214951       0    0\n",
       "14872  4214952       0    0\n",
       "14873  4214953       0    0\n",
       "14874  4214954       0    0\n",
       "14875  4214955       0    0\n",
       "\n",
       "[14876 rows x 3 columns]"
      ]
     },
     "execution_count": 11,
     "metadata": {},
     "output_type": "execute_result"
    }
   ],
   "source": [
    "cnn_file_data = pd.read_csv(cnn_file, header=None, sep=\" \", names=[\"Address\", \"Ground\", \"CNN\"])\n",
    "cnn_file_data"
   ]
  },
  {
   "cell_type": "code",
   "execution_count": 12,
   "metadata": {},
   "outputs": [
    {
     "data": {
      "text/plain": [
       "4200080"
      ]
     },
     "execution_count": 12,
     "metadata": {},
     "output_type": "execute_result"
    }
   ],
   "source": [
    "cnn_file_data['Address'][0]"
   ]
  },
  {
   "cell_type": "code",
   "execution_count": 13,
   "metadata": {},
   "outputs": [
    {
     "data": {
      "text/plain": [
       "'00401540'"
      ]
     },
     "execution_count": 13,
     "metadata": {},
     "output_type": "execute_result"
    }
   ],
   "source": [
    "ghidra_file_data = pd.read_csv(ghidra_file, header=None, sep=\" \", names=[\"Address\", \"Name\"])\n",
    "ghidra_file_data.iloc[0].Address"
   ]
  },
  {
   "cell_type": "code",
   "execution_count": 14,
   "metadata": {},
   "outputs": [
    {
     "name": "stdout",
     "output_type": "stream",
     "text": [
      "14876\n"
     ]
    }
   ],
   "source": [
    "ghidra_list = []\n",
    "for row in cnn_file_data['Address']:\n",
    "    state = 0\n",
    "    for item in ghidra_file_data['Address']:\n",
    "        if int(item, 16) == int(row):\n",
    "            ghidra_list.append(1)\n",
    "            state = 1\n",
    "    if state == 0:\n",
    "        ghidra_list.append(0)\n",
    "\n",
    "print(len(ghidra_list))\n",
    "#print(ghidra_list)"
   ]
  },
  {
   "cell_type": "code",
   "execution_count": 15,
   "metadata": {},
   "outputs": [],
   "source": [
    "cnn_file_data['Ghidra'] = ghidra_list"
   ]
  },
  {
   "cell_type": "code",
   "execution_count": 16,
   "metadata": {},
   "outputs": [
    {
     "data": {
      "text/html": [
       "<div>\n",
       "<style scoped>\n",
       "    .dataframe tbody tr th:only-of-type {\n",
       "        vertical-align: middle;\n",
       "    }\n",
       "\n",
       "    .dataframe tbody tr th {\n",
       "        vertical-align: top;\n",
       "    }\n",
       "\n",
       "    .dataframe thead th {\n",
       "        text-align: right;\n",
       "    }\n",
       "</style>\n",
       "<table border=\"1\" class=\"dataframe\">\n",
       "  <thead>\n",
       "    <tr style=\"text-align: right;\">\n",
       "      <th></th>\n",
       "      <th>Address</th>\n",
       "      <th>Ground</th>\n",
       "      <th>CNN</th>\n",
       "      <th>Ghidra</th>\n",
       "    </tr>\n",
       "  </thead>\n",
       "  <tbody>\n",
       "    <tr>\n",
       "      <th>0</th>\n",
       "      <td>4200080</td>\n",
       "      <td>0</td>\n",
       "      <td>0</td>\n",
       "      <td>1</td>\n",
       "    </tr>\n",
       "    <tr>\n",
       "      <th>1</th>\n",
       "      <td>4200081</td>\n",
       "      <td>0</td>\n",
       "      <td>0</td>\n",
       "      <td>0</td>\n",
       "    </tr>\n",
       "    <tr>\n",
       "      <th>2</th>\n",
       "      <td>4200082</td>\n",
       "      <td>0</td>\n",
       "      <td>0</td>\n",
       "      <td>0</td>\n",
       "    </tr>\n",
       "    <tr>\n",
       "      <th>3</th>\n",
       "      <td>4200083</td>\n",
       "      <td>0</td>\n",
       "      <td>0</td>\n",
       "      <td>0</td>\n",
       "    </tr>\n",
       "    <tr>\n",
       "      <th>4</th>\n",
       "      <td>4200084</td>\n",
       "      <td>0</td>\n",
       "      <td>0</td>\n",
       "      <td>0</td>\n",
       "    </tr>\n",
       "    <tr>\n",
       "      <th>...</th>\n",
       "      <td>...</td>\n",
       "      <td>...</td>\n",
       "      <td>...</td>\n",
       "      <td>...</td>\n",
       "    </tr>\n",
       "    <tr>\n",
       "      <th>14871</th>\n",
       "      <td>4214951</td>\n",
       "      <td>0</td>\n",
       "      <td>0</td>\n",
       "      <td>0</td>\n",
       "    </tr>\n",
       "    <tr>\n",
       "      <th>14872</th>\n",
       "      <td>4214952</td>\n",
       "      <td>0</td>\n",
       "      <td>0</td>\n",
       "      <td>0</td>\n",
       "    </tr>\n",
       "    <tr>\n",
       "      <th>14873</th>\n",
       "      <td>4214953</td>\n",
       "      <td>0</td>\n",
       "      <td>0</td>\n",
       "      <td>0</td>\n",
       "    </tr>\n",
       "    <tr>\n",
       "      <th>14874</th>\n",
       "      <td>4214954</td>\n",
       "      <td>0</td>\n",
       "      <td>0</td>\n",
       "      <td>0</td>\n",
       "    </tr>\n",
       "    <tr>\n",
       "      <th>14875</th>\n",
       "      <td>4214955</td>\n",
       "      <td>0</td>\n",
       "      <td>0</td>\n",
       "      <td>0</td>\n",
       "    </tr>\n",
       "  </tbody>\n",
       "</table>\n",
       "<p>14876 rows × 4 columns</p>\n",
       "</div>"
      ],
      "text/plain": [
       "       Address  Ground  CNN  Ghidra\n",
       "0      4200080       0    0       1\n",
       "1      4200081       0    0       0\n",
       "2      4200082       0    0       0\n",
       "3      4200083       0    0       0\n",
       "4      4200084       0    0       0\n",
       "...        ...     ...  ...     ...\n",
       "14871  4214951       0    0       0\n",
       "14872  4214952       0    0       0\n",
       "14873  4214953       0    0       0\n",
       "14874  4214954       0    0       0\n",
       "14875  4214955       0    0       0\n",
       "\n",
       "[14876 rows x 4 columns]"
      ]
     },
     "execution_count": 16,
     "metadata": {},
     "output_type": "execute_result"
    }
   ],
   "source": [
    "cnn_file_data"
   ]
  },
  {
   "cell_type": "code",
   "execution_count": 17,
   "metadata": {},
   "outputs": [],
   "source": [
    "for i in cnn_file_data.iloc:\n",
    "    x.append([i['CNN'], i['Ghidra']])\n",
    "    y.append(i['Ground'])"
   ]
  },
  {
   "cell_type": "code",
   "execution_count": null,
   "metadata": {},
   "outputs": [],
   "source": [
    "cnn_file_data.iloc[0]"
   ]
  },
  {
   "cell_type": "code",
   "execution_count": null,
   "metadata": {},
   "outputs": [],
   "source": [
    "x.append([cnn_file_data.iloc[0]['CNN'], cnn_file_data.iloc[0]['Ghidra']])"
   ]
  },
  {
   "cell_type": "code",
   "execution_count": null,
   "metadata": {},
   "outputs": [],
   "source": [
    "x"
   ]
  },
  {
   "cell_type": "code",
   "execution_count": null,
   "metadata": {},
   "outputs": [],
   "source": [
    "cnn_file_data.loc[cnn_file_data['Ground'] == 1]"
   ]
  },
  {
   "cell_type": "code",
   "execution_count": null,
   "metadata": {},
   "outputs": [],
   "source": []
  },
  {
   "attachments": {},
   "cell_type": "markdown",
   "metadata": {},
   "source": [
    "### ACC for Ghidra and CNN"
   ]
  },
  {
   "cell_type": "code",
   "execution_count": null,
   "metadata": {},
   "outputs": [],
   "source": []
  },
  {
   "cell_type": "code",
   "execution_count": null,
   "metadata": {},
   "outputs": [],
   "source": []
  }
 ],
 "metadata": {
  "kernelspec": {
   "display_name": "function_identification",
   "language": "python",
   "name": "python3"
  },
  "language_info": {
   "codemirror_mode": {
    "name": "ipython",
    "version": 3
   },
   "file_extension": ".py",
   "mimetype": "text/x-python",
   "name": "python",
   "nbconvert_exporter": "python",
   "pygments_lexer": "ipython3",
   "version": "3.6.13"
  },
  "orig_nbformat": 4
 },
 "nbformat": 4,
 "nbformat_minor": 2
}
